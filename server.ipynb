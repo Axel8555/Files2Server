{
 "cells": [
  {
   "cell_type": "code",
   "execution_count": null,
   "id": "42764bf7",
   "metadata": {},
   "outputs": [
    {
     "name": "stdout",
     "output_type": "stream",
     "text": [
      "Socket successfully created\n",
      "socket binded to 127.0.0.1:12345\n",
      "socket is listening\n",
      "Got connection from ('127.0.0.1', 60092)\n",
      "Client <('127.0.0.1', 60092)>: zsdfasdf\n",
      "Message to <('127.0.0.1', 60092)>:\n",
      "asdfa\n",
      "Client <('127.0.0.1', 60092)>: \n",
      "Message to <('127.0.0.1', 60092)>:\n",
      "dfdgf\n",
      "Client <('127.0.0.1', 60092)>: exit\n",
      "Conexión finalizada\n",
      "Got connection from ('127.0.0.1', 60098)\n",
      "Client <('127.0.0.1', 60098)>: sdfs\n",
      "Message to <('127.0.0.1', 60098)>:\n",
      "A\n",
      "Conexión finalizada\n"
     ]
    }
   ],
   "source": [
    "import threading\n",
    "import socket\n",
    "def clientHandling(idConnection,addr):\n",
    "    while True:\n",
    "        msg = \"\"\n",
    "        try:\n",
    "            msg = idConnection.recv(1024).decode()\n",
    "        except:\n",
    "            msg = \"exit\"\n",
    "        print(\"Client <%s>: %s\"%(addr,msg))\n",
    "        \n",
    "        if msg == \"exit\":\n",
    "            idConnection.close()\n",
    "            print(\"Conexión finalizada\")\n",
    "            break;\n",
    "            \n",
    "        print(\"Message to <%s>:%s\"%(addr,\"\"))    \n",
    "        msg = input()\n",
    "\n",
    "        try:\n",
    "            idConnection.send(msg.encode())\n",
    "        except:\n",
    "            msg = \"exit\"\n",
    "            \n",
    "        if msg == \"exit\":\n",
    "            idConnection.close()\n",
    "            print(\"Conexión finalizada\")\n",
    "            break;\n",
    "        \n",
    "if __name__ == \"__main__\":\n",
    "    idSocket = socket.socket(family=socket.AF_INET, type=socket.SOCK_STREAM, proto=0)\n",
    "    print(\"Socket successfully created\")\n",
    "\n",
    "    host = \"127.0.0.1\"\n",
    "    port = 12345\n",
    "\n",
    "    idSocket.bind((host, port))\n",
    "    print(\"socket binded to %s:%s\" % (host, port))\n",
    "\n",
    "\n",
    "    idSocket.listen(1)\n",
    "    print(\"socket is listening\")\n",
    "\n",
    "    while True:\n",
    "        idConnection, addr = idSocket.accept()\n",
    "        print(\"Got connection from\", addr)\n",
    "        idHilo = threading.Thread(target=clientHandling, args=[idConnection,addr])\n",
    "        idHilo.start()  \n"
   ]
  },
  {
   "cell_type": "code",
   "execution_count": null,
   "id": "f2c927a6",
   "metadata": {},
   "outputs": [],
   "source": [
    "alooooooooooooooooooooooooooooooooooooooooooooooooooooooooo\n"
   ]
  }
 ],
 "metadata": {
  "kernelspec": {
   "display_name": "Python 3 (ipykernel)",
   "language": "python",
   "name": "python3"
  },
  "language_info": {
   "codemirror_mode": {
    "name": "ipython",
    "version": 3
   },
   "file_extension": ".py",
   "mimetype": "text/x-python",
   "name": "python",
   "nbconvert_exporter": "python",
   "pygments_lexer": "ipython3",
   "version": "3.9.12"
  }
 },
 "nbformat": 4,
 "nbformat_minor": 5
}
