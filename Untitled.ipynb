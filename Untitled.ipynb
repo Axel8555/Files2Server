{
 "cells": [
  {
   "cell_type": "code",
   "execution_count": 3,
   "id": "879c4427",
   "metadata": {},
   "outputs": [
    {
     "name": "stdout",
     "output_type": "stream",
     "text": [
      "socket creado\n",
      "zsdfasdf\n",
      "Server: exit\n",
      "Conexión finalizada\n"
     ]
    }
   ],
   "source": [
    "import threading\n",
    "import socket\n",
    "\n",
    "if __name__ == \"__main__\":\n",
    "\n",
    "    idSocket = socket.socket()\n",
    "    host = \"127.0.0.1\"\n",
    "    port = 12345\n",
    "    print(\"socket creado\")\n",
    "\n",
    "    idSocket.connect((host, port))\n",
    "\n",
    "    while True:\n",
    "        msg  = \"\"\n",
    "        msg = input()\n",
    "        try:\n",
    "            idSocket.send(msg.encode())\n",
    "        except:\n",
    "            msg = \"exit\"\n",
    "            \n",
    "        if msg == \"exit\":\n",
    "            break;\n",
    "            \n",
    "        try:\n",
    "            msg = idSocket.recv(1024).decode()\n",
    "        except:\n",
    "            msg = \"exit\"\n",
    "        print(\"Server: %s\"%(msg))\n",
    "        if msg == \"exit\":\n",
    "            break;\n",
    " \n",
    "    idSocket.close()\n",
    "    print(\"Conexión finalizada\")"
   ]
  },
  {
   "cell_type": "code",
   "execution_count": null,
   "id": "5b897d36",
   "metadata": {},
   "outputs": [],
   "source": []
  },
  {
   "cell_type": "code",
   "execution_count": null,
   "id": "2e166259",
   "metadata": {},
   "outputs": [],
   "source": []
  }
 ],
 "metadata": {
  "kernelspec": {
   "display_name": "Python 3 (ipykernel)",
   "language": "python",
   "name": "python3"
  },
  "language_info": {
   "codemirror_mode": {
    "name": "ipython",
    "version": 3
   },
   "file_extension": ".py",
   "mimetype": "text/x-python",
   "name": "python",
   "nbconvert_exporter": "python",
   "pygments_lexer": "ipython3",
   "version": "3.9.12"
  }
 },
 "nbformat": 4,
 "nbformat_minor": 5
}
